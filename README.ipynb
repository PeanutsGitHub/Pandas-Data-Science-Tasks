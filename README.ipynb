{
  "nbformat": 4,
  "nbformat_minor": 0,
  "metadata": {
    "colab": {
      "provenance": [],
      "authorship_tag": "ABX9TyPsGZXwmWAhumYnBW0XkUGJ",
      "include_colab_link": true
    },
    "kernelspec": {
      "name": "python3",
      "display_name": "Python 3"
    },
    "language_info": {
      "name": "python"
    }
  },
  "cells": [
    {
      "cell_type": "markdown",
      "metadata": {
        "id": "view-in-github",
        "colab_type": "text"
      },
      "source": [
        "<a href=\"https://colab.research.google.com/github/PeanutsGitHub/Pandas-Data-Science-Tasks/blob/master/README.ipynb\" target=\"_parent\"><img src=\"https://colab.research.google.com/assets/colab-badge.svg\" alt=\"Open In Colab\"/></a>"
      ]
    },
    {
      "cell_type": "markdown",
      "source": [
        "# Original Git Path https://github.com/PeanutsGitHub/Pandas-Data-Science-Tasks\n",
        "# Original Youtube Path https://youtu.be/eMOA1pPVUc4\n"
      ],
      "metadata": {
        "id": "CX8dXcyq8fSs"
      }
    },
    {
      "cell_type": "code",
      "execution_count": null,
      "metadata": {
        "id": "8htJk9mR8cqU"
      },
      "outputs": [],
      "source": [
        "# Git Clone Command\n",
        "!git clone https://github.com/PeanutsGitHub/Pandas-Data-Science-Tasks.git"
      ]
    }
  ]
}